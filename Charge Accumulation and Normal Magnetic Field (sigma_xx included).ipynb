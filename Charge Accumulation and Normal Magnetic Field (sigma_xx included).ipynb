{
 "cells": [
  {
   "cell_type": "code",
   "execution_count": 34,
   "id": "f8bcd265-a055-44ae-92e8-2224d00f2408",
   "metadata": {},
   "outputs": [
    {
     "name": "stdout",
     "output_type": "stream",
     "text": [
      "(0.551534621728009+0.007213082806431311j)\n",
      "(1.5515364458650787+0.007538051972535098j)\n",
      "(2.8668422946940045e-08-1.0532363742647236e-06j)\n",
      "(-2.344960479213877e-10+1.357625296145031e-06j)\n",
      "0.9999999998874348\n"
     ]
    }
   ],
   "source": [
    "# Notice that E_2s, E_2p, E_5s and E_5p are in unit of E_1s, and the measured rotation angles contain initial incident polarization\n",
    "import numpy as np\n",
    "import matplotlib.pyplot as plt\n",
    "\n",
    "k0 = 2 * np.pi * 1e4 / 3  # The frequency is 1THz\n",
    "n1 = 3.46\n",
    "n2 = 10.0\n",
    "n3 = 1.0\n",
    "d0 = 1e-8\n",
    "mu = 0  # E_1p / E_1s, namely the initial polarization\n",
    "mu1 = 0 # sigma_xx^b / sigma_xy^b\n",
    "mu2 = 0 # sigma_xx^t / sigma_xy^t\n",
    "tf = 4.1e-9 + 1j * 8.75e-7\n",
    "tk = 2.7e-8 - 1j * 1.91e-6\n",
    "theta_3 = 1e-3\n",
    "\n",
    "c3 = np.cos(theta_3)\n",
    "c2 = np.sqrt(n2**2 - n3**2 * np.sin(theta_3)**2) / n2  # cos(theta_2)\n",
    "c1 = np.sqrt(n1**2 - n3**2 * np.sin(theta_3)**2) / n1  # cos(theta_1)\n",
    "alpha = np.cos(n2 * k0 * d0 * c2)\n",
    "beta = np.sin(n2 * k0 * d0 * c2)\n",
    "\n",
    "a1 = -n2 * mu * c1 * alpha - 1j * mu * n1 * c2 * beta\n",
    "b1 = -n2 * tk * c1 * alpha + 1j * n1 * c2 * tk * beta\n",
    "d1 = n2 * tf * c3\n",
    "a2 = n2 * c2**2 * alpha + 1j * n1 * c1 * c2 * beta\n",
    "b2 = n2 * c2**2 * alpha - 1j * n1 * c1 * c2 * beta\n",
    "d2 = -n2 * c2**2\n",
    "a3 = 1 - mu1 * mu * c1\n",
    "b3 = 1 - mu1 * tk * c1\n",
    "a4 = mu1 + mu * c1\n",
    "b4 = mu1 + tk * c1\n",
    "a = a1 * a4 - a2 * a3\n",
    "b = b2 * b3 - b1 * b4\n",
    "c = a2 * b3 + b2 * a3 - a1 * b4 - b1 * a4\n",
    "d = d2 * a3 - d1 * a4\n",
    "e = d2 * b3 - d1 * b4\n",
    "denom = (n2 * tf * c3 * (mu2 + tf * c3) - n2 * c2**2 * (mu2 * tf * c3 - 1)) * alpha + 1j * (c2 * c3 * (mu2 * tf * c3 - 1) - c2 * tf * (mu2 + tf * c3)) * beta\n",
    "h = n2 * mu * c1 * (mu2 + tf * c3) - n2 * c2**2 * (mu2 * tf * c3 - 1)\n",
    "i = n2 * tk * c1 * (mu2 + tf * c3) - n2 * c2**2 * (mu2 * tf * c3 - 1)\n",
    "f = h / denom\n",
    "g = i / denom\n",
    "\n",
    "E_2s = (-(c + d * g + e * f) - np.sqrt((c + d * g + e * f)**2 - 4 * (b + e * g) * (d * f - a))) / (2 * (b + e * g))\n",
    "E_5s = f + g * E_2s\n",
    "E_2p = E_2s * tk\n",
    "E_5p = E_5s * tf\n",
    "\n",
    "E_0 = n1 * c1 * (1 + mu**2)\n",
    "E_1 = n1 * c1 * (abs(E_2s)**2 + abs(E_2p)**2) + n3 * c3 * (abs(E_5s)**2 + abs(E_5p)**2)\n",
    "\n",
    "print(E_2s)\n",
    "print(E_5s)\n",
    "print(E_2p)\n",
    "print(E_5p)\n",
    "print(E_1 / E_0)"
   ]
  },
  {
   "cell_type": "code",
   "execution_count": 38,
   "id": "5a5db236-5416-4a6e-84bc-16e6d87be3dd",
   "metadata": {},
   "outputs": [
    {
     "name": "stdout",
     "output_type": "stream",
     "text": [
      "1.0192629139713008e-16\n",
      "1.0192562538952298e-16\n",
      "1.9707946989824597e-05\n",
      "1.9707775422144202e-05\n"
     ]
    }
   ],
   "source": [
    "# Notice that all E components are in unit of E_1s.\n",
    "s3 = np.sin(theta_3)\n",
    "e0 = 8.854e-12\n",
    "\n",
    "Q1 = n1 * s3 * (mu - tk * E_2s) + 1j * (n2 * s3 * (tf * c3 * E_5s - alpha * c1 * (mu + tk * E_2s))) / (c2 * beta)\n",
    "Q2 = -s3 * tf * E_5s + 1j * (n2 * s3 * (c1 * (mu + tk * E_2s) - alpha * c3 * tf * E_5s)) / (c2 * beta)\n",
    "\n",
    "sigma_xy_b = -3e8 * e0 * Q1 / (s3 * (1 + E_2s))\n",
    "sigma_xy_t = -3e8 * e0 * Q2 / (s3 * E_5s)\n",
    "\n",
    "print(abs(Q1) * e0)\n",
    "print(abs(Q2) * e0)\n",
    "print(abs(sigma_xy_b))\n",
    "print(abs(sigma_xy_t))"
   ]
  },
  {
   "cell_type": "code",
   "execution_count": null,
   "id": "f7f6385a-9bf7-4554-9860-7430a17517c7",
   "metadata": {},
   "outputs": [],
   "source": []
  }
 ],
 "metadata": {
  "kernelspec": {
   "display_name": "Python 3 (ipykernel)",
   "language": "python",
   "name": "python3"
  },
  "language_info": {
   "codemirror_mode": {
    "name": "ipython",
    "version": 3
   },
   "file_extension": ".py",
   "mimetype": "text/x-python",
   "name": "python",
   "nbconvert_exporter": "python",
   "pygments_lexer": "ipython3",
   "version": "3.12.9"
  }
 },
 "nbformat": 4,
 "nbformat_minor": 5
}
