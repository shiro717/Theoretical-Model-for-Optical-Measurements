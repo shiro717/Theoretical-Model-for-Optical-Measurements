{
 "cells": [
  {
   "cell_type": "code",
   "execution_count": 64,
   "id": "7b769f26-2e94-4d28-9fc7-115496345674",
   "metadata": {},
   "outputs": [
    {
     "name": "stdout",
     "output_type": "stream",
     "text": [
      "(-1.0000000000018954-6.685904440186315e-10j)\n",
      "(-2.9833913117727207e-12-2.6155938232083533e-09j)\n",
      "(-0.0010000000000005937-1.9470006685941344e-06j)\n",
      "(-5.181013242032379e-15-2.615591316562973e-12j)\n",
      "1.0000000000075817\n"
     ]
    }
   ],
   "source": [
    "# Notice that E_2s, E_2p, E_5s and E_5p are in unit of E_1s, and the measured rotation angles contain initial incident polarization.\n",
    "import numpy as np\n",
    "import matplotlib.pyplot as plt\n",
    "\n",
    "k0 = 2 * np.pi * 1e4 / 3  # The frequency is 1THz\n",
    "n1 = 3.46\n",
    "n2 = 10.0\n",
    "n3 = 1.0\n",
    "d0 = 1e-8\n",
    "mu = 1e-3  # E_1p / E_1s, namely the initial polarization\n",
    "tf = 1e-3 - 1j * 8.402e-7\n",
    "tk = 1e-3 + 1j * 1.947e-6\n",
    "theta_3 = 1e-3\n",
    "\n",
    "c3 = np.cos(theta_3)\n",
    "c2 = np.sqrt(n2**2 - n3**2 * np.sin(theta_3)**2) / n2  # cos(theta_2)\n",
    "c1 = np.sqrt(n1**2 - n3**2 * np.sin(theta_3)**2) / n1  # cos(theta_1)\n",
    "alpha = np.cos(n2 * k0 * d0 * c2)\n",
    "beta = np.sin(n2 * k0 * d0 * c2)\n",
    "\n",
    "a0 = (c2**2 + mu**2 * c1**2) * n2 * alpha + 1j * (1 + mu**2) * n1 * c1 * c2 * beta\n",
    "b = -n2 * (c2**2 + tk**2 * c1**2) * alpha + 1j * n1 * c1 * c2 * beta * (1 + tk**2)\n",
    "c = -2 * n2 * (c2**2 + mu * tk * c1**2) * alpha\n",
    "d = n2 * (c2**2 + mu * tf * c1 * c3)\n",
    "e = n2 * (c2**2 + tf * tk * c1 * c3)\n",
    "denom = n2 * (c2**2 + c3**2 * tf**2) * alpha - 1j * c2 * c3 * (1 + tf**2) * beta\n",
    "f = d / denom\n",
    "g = e / denom\n",
    "\n",
    "E_2s = (-(c + d * g + e * f) - np.sqrt((c + d * g + e * f)**2 - 4 * (b + e * g) * (d * f - a0))) / (2 * (b + e * g))\n",
    "E_5s = f + g * E_2s\n",
    "E_2p = E_2s * tk\n",
    "E_5p = E_5s * tf\n",
    "\n",
    "E_0 = n1 * c1 * (1 + mu**2)\n",
    "E_1 = n1 * c1 * (abs(E_2s)**2 + abs(E_2p)**2) + n3 * c3 * (abs(E_5s)**2 + abs(E_5p)**2)\n",
    "\n",
    "print(E_2s)\n",
    "print(E_5s)\n",
    "print(E_2p)\n",
    "print(E_5p)"
   ]
  },
  {
   "cell_type": "code",
   "execution_count": 65,
   "id": "a8e139b2-1d73-4e71-9c3f-5d0513269a8f",
   "metadata": {},
   "outputs": [
    {
     "name": "stdout",
     "output_type": "stream",
     "text": [
      "2.1039106730028532e-17\n",
      "8.230887249431722e-17\n",
      "(0.0012456700774324048+9440.319952738708j)\n",
      "(10.768074046526046-9440.545974402135j)\n"
     ]
    }
   ],
   "source": [
    "# Notice that all E components are in unit of E_1s.\n",
    "s3 = np.sin(theta_3)\n",
    "e0 = 8.854e-12\n",
    "\n",
    "Q1 = n1 * s3 * (mu - tk * E_2s) + 1j * (n2 * s3 * (tf * c3 * E_5s - alpha * c1 * (mu + tk * E_2s))) / (c2 * beta)\n",
    "Q2 = -s3 * tf * E_5s + 1j * (n2 * s3 * (c1 * (mu + tk * E_2s) - alpha * c3 * tf * E_5s)) / (c2 * beta)\n",
    "\n",
    "sigma_xy_b = -3e8 * e0 * Q1 / (s3 * (1 + E_2s))\n",
    "sigma_xy_t = -3e8 * e0 * Q2 / (s3 * E_5s)\n",
    "\n",
    "print(abs(Q1) * e0)\n",
    "print(abs(Q2) * e0)\n",
    "print(sigma_xy_b)\n",
    "print(sigma_xy_t)"
   ]
  },
  {
   "cell_type": "code",
   "execution_count": null,
   "id": "a5a8b77e-206b-4a68-ad9a-32673fc64639",
   "metadata": {},
   "outputs": [],
   "source": []
  }
 ],
 "metadata": {
  "kernelspec": {
   "display_name": "Python 3 (ipykernel)",
   "language": "python",
   "name": "python3"
  },
  "language_info": {
   "codemirror_mode": {
    "name": "ipython",
    "version": 3
   },
   "file_extension": ".py",
   "mimetype": "text/x-python",
   "name": "python",
   "nbconvert_exporter": "python",
   "pygments_lexer": "ipython3",
   "version": "3.12.9"
  }
 },
 "nbformat": 4,
 "nbformat_minor": 5
}
